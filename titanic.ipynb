import pandas as pd
from sklearn.model_selection import train_test_split
from sklearn.preprocessing import StandardScaler
from sklearn.linear_model import LogisticRegression
from sklearn.metrics import accuracy_score, classification_report, confusion_matrix

data = pd.read_csv("train.csv")

selected_features = ["Pclass", "Sex", "Age", "SibSp", "Parch", "Fare"]

X_data = data[selected_features]
y_data = data["Survived"]

X_data = pd.get_dummies(X_data, columns=["Sex"], drop_first=True)

X_data["Age"].fillna(X_data["Age"].median(), inplace=True)

X_train, X_test, y_train, y_test = train_test_split(X_data, y_data, test_size=0.2, random_state=42)

scaler = StandardScaler()
X_train = scaler.fit_transform(X_train)
X_test = scaler.transform(X_test)

logistic_model = LogisticRegression()
logistic_model.fit(X_train, y_train)

y_predicted = logistic_model.predict(X_test)

accuracy_value = accuracy_score(y_test, y_predicted)
confusion_matrix_result = confusion_matrix(y_test, y_predicted)
classification_report_result = classification_report(y_test, y_predicted)

print(f"Accuracy: {accuracy_value}")
print(f"Confusion Matrix:\n{confusion_matrix_result}")
print(f"Classification Report:\n{classification_report_result}")
